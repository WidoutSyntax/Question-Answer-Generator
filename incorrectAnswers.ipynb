{
 "cells": [
  {
   "cell_type": "code",
   "execution_count": 1,
   "id": "cf1b13f8",
   "metadata": {},
   "outputs": [],
   "source": [
    "import _pickle as cPickle\n",
    "from pathlib import Path\n",
    "\n",
    "def dumpPickle(fileName, content):\n",
    "    pickleFile = open(fileName, 'wb')\n",
    "    cPickle.dump(content, pickleFile, -1)\n",
    "    pickleFile.close()\n",
    "\n",
    "def loadPickle(fileName):    \n",
    "    file = open(fileName, 'rb')\n",
    "    content = cPickle.load(file)\n",
    "    file.close()\n",
    "    \n",
    "    return content\n",
    "    \n",
    "def pickleExists(fileName):\n",
    "    file = Path(fileName)\n",
    "    \n",
    "    if file.is_file():\n",
    "        return True\n",
    "    \n",
    "    return False"
   ]
  },
  {
   "cell_type": "code",
   "execution_count": 2,
   "id": "3176ed64",
   "metadata": {},
   "outputs": [],
   "source": [
    "import gensim\n",
    "from gensim.test.utils import datapath, get_tmpfile\n",
    "from gensim.models import KeyedVectors"
   ]
  },
  {
   "cell_type": "code",
   "execution_count": 3,
   "id": "4bca5428",
   "metadata": {},
   "outputs": [],
   "source": [
    "glove_file = './data/embeddings/glove.6B.50d.txt'\n",
    "tmp_file = './data/embeddings/word2vec-glove.6B.50d.txt'"
   ]
  },
  {
   "cell_type": "code",
   "execution_count": 4,
   "id": "310bea0b",
   "metadata": {},
   "outputs": [],
   "source": [
    "import os\n",
    "\n",
    "if not os.path.isfile(glove_file):\n",
    "    print(\"Glove embeddings not found. Please download and place them in the following path: \" + glove_file)"
   ]
  },
  {
   "cell_type": "code",
   "execution_count": 5,
   "id": "328c0fdb",
   "metadata": {},
   "outputs": [],
   "source": [
    "from gensim.scripts.glove2word2vec import glove2word2vec\n",
    "glove2word2vec(glove_file, tmp_file)\n",
    "model = KeyedVectors.load_word2vec_format(tmp_file)"
   ]
  },
  {
   "cell_type": "code",
   "execution_count": 6,
   "id": "73c9c076",
   "metadata": {},
   "outputs": [],
   "source": [
    "predictorIncorrect = './data/pickles/model.pkl'\n",
    "dumpPickle(predictorIncorrect, model)"
   ]
  },
  {
   "cell_type": "code",
   "execution_count": 7,
   "id": "0c47fef7",
   "metadata": {},
   "outputs": [
    {
     "data": {
      "text/plain": [
       "[('indian', 0.8648794889450073),\n",
       " ('pakistan', 0.8529723286628723),\n",
       " ('malaysia', 0.816650927066803),\n",
       " ('bangladesh', 0.8154239058494568),\n",
       " ('delhi', 0.8142766952514648),\n",
       " ('indonesia', 0.7939143180847168),\n",
       " ('thailand', 0.7864409685134888),\n",
       " ('sri', 0.7809487581253052),\n",
       " ('lanka', 0.7792481780052185),\n",
       " ('africa', 0.7728373408317566)]"
      ]
     },
     "execution_count": 7,
     "metadata": {},
     "output_type": "execute_result"
    }
   ],
   "source": [
    "model.most_similar(positive=['india'], topn=10)"
   ]
  },
  {
   "cell_type": "code",
   "execution_count": 9,
   "id": "b0e92013",
   "metadata": {},
   "outputs": [
    {
     "data": {
      "text/plain": [
       "[('1943', 0.9888142943382263),\n",
       " ('1942', 0.9829348921775818),\n",
       " ('1941', 0.9744484424591064),\n",
       " ('1945', 0.9693483114242554),\n",
       " ('1940', 0.967719554901123),\n",
       " ('1916', 0.9390915036201477),\n",
       " ('1917', 0.9382231831550598),\n",
       " ('1915', 0.9366674423217773),\n",
       " ('1918', 0.9296469688415527),\n",
       " ('1939', 0.9279517531394958)]"
      ]
     },
     "execution_count": 9,
     "metadata": {},
     "output_type": "execute_result"
    }
   ],
   "source": [
    "model.most_similar(positive=['1944'], topn=10)"
   ]
  },
  {
   "cell_type": "code",
   "execution_count": 10,
   "id": "501204f2",
   "metadata": {},
   "outputs": [],
   "source": [
    "def generate_distractors(answer, count):\n",
    "    answer = str.lower(answer)\n",
    "    \n",
    "    ##Extracting closest words for the answer. \n",
    "    try:\n",
    "        closestWords = model.most_similar(positive=[answer], topn=count)\n",
    "    except:\n",
    "        #In case the word is not in the vocabulary, or other problem not loading embeddings\n",
    "        return []\n",
    "\n",
    "    #Return count many distractors\n",
    "    distractors = list(map(lambda x: x[0], closestWords))[0:count]\n",
    "    \n",
    "    return distractors"
   ]
  },
  {
   "cell_type": "code",
   "execution_count": 11,
   "id": "91e282c6",
   "metadata": {},
   "outputs": [
    {
     "data": {
      "text/plain": [
       "['hydrogen', 'liquid', 'nitrogen', 'chlorine']"
      ]
     },
     "execution_count": 11,
     "metadata": {},
     "output_type": "execute_result"
    }
   ],
   "source": [
    "generate_distractors('oxygen', 4)"
   ]
  },
  {
   "cell_type": "code",
   "execution_count": null,
   "id": "84cebc61",
   "metadata": {},
   "outputs": [],
   "source": [
    "generate_distractors('india', 7)"
   ]
  },
  {
   "cell_type": "code",
   "execution_count": null,
   "id": "592ca862",
   "metadata": {},
   "outputs": [],
   "source": []
  }
 ],
 "metadata": {
  "kernelspec": {
   "display_name": "Python 3",
   "language": "python",
   "name": "python3"
  },
  "language_info": {
   "codemirror_mode": {
    "name": "ipython",
    "version": 3
   },
   "file_extension": ".py",
   "mimetype": "text/x-python",
   "name": "python",
   "nbconvert_exporter": "python",
   "pygments_lexer": "ipython3",
   "version": "3.6.13"
  }
 },
 "nbformat": 4,
 "nbformat_minor": 5
}
